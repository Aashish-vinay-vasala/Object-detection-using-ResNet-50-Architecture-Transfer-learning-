{
 "cells": [
  {
   "cell_type": "code",
   "execution_count": null,
   "id": "7e0b00a9",
   "metadata": {},
   "outputs": [],
   "source": [
    "import numpy as np\n",
    "import cv2\n",
    "\n",
    "image_path='K:\\Project\\simple_object_detection-main\\object_detection\\image2.jpg'\n",
    "prototxt_path='K:\\Project\\simple_object_detection-main\\object_detection\\models\\MobileNetSSD_deploy.prototxt.txt'\n",
    "model_path='K:\\Project\\simple_object_detection-main\\object_detection\\models\\MobileNetSSD_deploy.caffemodel'\n",
    "\n",
    "\n",
    "min_confidence=0.2\n",
    "classes = ['background',\n",
    "           'aeroplane', 'bicycle', 'bird', 'boat',\n",
    "           'bottle', 'bus', 'car', 'cat', 'chair',\n",
    "           'cow', 'diningtable', 'dog', 'horse',\n",
    "           'motorbike', 'person', 'pottedplant',\n",
    "           'sheep', 'sofa', 'train', 'tvmonitor','mobile','phone']\n",
    "\n",
    "np.random.seed(543210)\n",
    "colors = np.random.uniform(0,255 ,size=(len(classes),3))\n",
    "\n",
    "net = cv2.dnn.readNetFromCaffe(prototxt_path,model_path)\n",
    "\n",
    "cap = cv2.VideoCapture(0)\n",
    "\n",
    "while True:\n",
    "    _, image = cap.read()\n",
    "\n",
    "    height,width = image.shape[0],image.shape[1]\n",
    "    blob = cv2.dnn.blobFromImage(cv2.resize(image,(300,300)),0.007,(300,300),130)\n",
    "\n",
    "    net.setInput(blob)\n",
    "    detected_objects=net.forward()\n",
    "\n",
    "\n",
    "\n",
    "    for i in range(detected_objects.shape[2]):\n",
    "        confidence = detected_objects[0][0][i][2]\n",
    "        if confidence > min_confidence:\n",
    "            class_index =int(detected_objects[0,0,i,1])\n",
    "\n",
    "            upper_left_x=int(detected_objects[0,0,i,3]*width)\n",
    "            upper_left_y=int(detected_objects[0,0,i,4]*height)\n",
    "            lower_right_x=int(detected_objects[0,0,i,5]*width)\n",
    "            lower_right_y=int(detected_objects[0,0,i,6]*height)\n",
    "\n",
    "        prediction_text = f\"{classes[class_index]}:{confidence:.2f}%\"\n",
    "\n",
    "        cv2.rectangle(image,(upper_left_x,upper_left_y),(lower_right_x,lower_right_y),colors[class_index],3)\n",
    "        \n",
    "        \n",
    "        cv2.putText(image, prediction_text, (upper_left_x, upper_left_y - 15 if upper_left_y > 30 else upper_left_y + 15), cv2.FONT_HERSHEY_SIMPLEX, 0.6, colors[class_index], 2)\n",
    "\n",
    "    cv2.imshow(\"Detected Objects\", image)\n",
    "    cv2.waitKey(5)\n",
    "cv2.destroyAllWindows()\n",
    "cap.release()"
   ]
  }
 ],
 "metadata": {
  "kernelspec": {
   "display_name": "Python 3 (ipykernel)",
   "language": "python",
   "name": "python3"
  },
  "language_info": {
   "codemirror_mode": {
    "name": "ipython",
    "version": 3
   },
   "file_extension": ".py",
   "mimetype": "text/x-python",
   "name": "python",
   "nbconvert_exporter": "python",
   "pygments_lexer": "ipython3",
   "version": "3.11.4"
  }
 },
 "nbformat": 4,
 "nbformat_minor": 5
}
